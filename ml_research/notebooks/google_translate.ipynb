{
 "cells": [
  {
   "cell_type": "code",
   "execution_count": 17,
   "id": "18022dcc",
   "metadata": {},
   "outputs": [],
   "source": [
    "import os\n",
    "os.environ['GOOGLE_APPLICATION_CREDENTIALS']=\"/Users/nadzeya/Downloads/realty-tool-a987573ab410.json\""
   ]
  },
  {
   "cell_type": "code",
   "execution_count": 21,
   "id": "cd39da26",
   "metadata": {},
   "outputs": [],
   "source": [
    "def translate_text(target, text):\n",
    "    \"\"\"Translates text into the target language.\n",
    "\n",
    "    Target must be an ISO 639-1 language code.\n",
    "    See https://g.co/cloud/translate/v2/translate-reference#supported_languages\n",
    "    \"\"\"\n",
    "    import six\n",
    "    from google.cloud import translate_v2 as translate\n",
    "\n",
    "    translate_client = translate.Client()\n",
    "\n",
    "    if isinstance(text, six.binary_type):\n",
    "        text = text.decode(\"utf-8\")\n",
    "\n",
    "    # Text can also be a sequence of strings, in which case this method\n",
    "    # will return a sequence of results for each text.\n",
    "    result = translate_client.translate(text, target_language=target)\n",
    "\n",
    "    print(u\"Text: {}\".format(result[\"input\"]))\n",
    "    print(u\"Translation: {}\".format(result[\"translatedText\"]))\n",
    "    print(u\"Detected source language: {}\".format(result[\"detectedSourceLanguage\"]))\n",
    "    return result\n"
   ]
  },
  {
   "cell_type": "code",
   "execution_count": 22,
   "id": "736e5471",
   "metadata": {},
   "outputs": [
    {
     "name": "stdout",
     "output_type": "stream",
     "text": [
      "Text: Сдается квартира в Которе, 400 евро в месяц.\n",
      "Translation: An apartment for rent in Kotor, 400 euros per month.\n",
      "Detected source language: ru\n"
     ]
    }
   ],
   "source": [
    "res = translate_text('en', 'Сдается квартира в Которе, 400 евро в месяц.')"
   ]
  },
  {
   "cell_type": "code",
   "execution_count": 23,
   "id": "6b995dfa",
   "metadata": {},
   "outputs": [
    {
     "data": {
      "text/plain": [
       "{'translatedText': 'An apartment for rent in Kotor, 400 euros per month.',\n",
       " 'detectedSourceLanguage': 'ru',\n",
       " 'input': 'Сдается квартира в Которе, 400 евро в месяц.'}"
      ]
     },
     "execution_count": 23,
     "metadata": {},
     "output_type": "execute_result"
    }
   ],
   "source": [
    "res"
   ]
  },
  {
   "cell_type": "code",
   "execution_count": null,
   "id": "87324b7d",
   "metadata": {},
   "outputs": [],
   "source": []
  }
 ],
 "metadata": {
  "kernelspec": {
   "display_name": "Python 3 (ipykernel)",
   "language": "python",
   "name": "python3"
  },
  "language_info": {
   "codemirror_mode": {
    "name": "ipython",
    "version": 3
   },
   "file_extension": ".py",
   "mimetype": "text/x-python",
   "name": "python",
   "nbconvert_exporter": "python",
   "pygments_lexer": "ipython3",
   "version": "3.9.12"
  }
 },
 "nbformat": 4,
 "nbformat_minor": 5
}
