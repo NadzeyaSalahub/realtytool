{
 "cells": [
  {
   "cell_type": "code",
   "execution_count": null,
   "id": "465808ae",
   "metadata": {},
   "outputs": [],
   "source": [
    "from transformers import AutoModelForTokenClassification, AutoTokenizer, pipeline\n",
    "import pandas as pd\n",
    "import plotly.express as px"
   ]
  },
  {
   "cell_type": "code",
   "execution_count": null,
   "id": "1b017376",
   "metadata": {},
   "outputs": [],
   "source": [
    "def highlight_entities_in_text(text, entities, colors, title=None):\n",
    "    \"\"\"\n",
    "    entities: {\"start\": 0, \"end\": 4, \"label\": 'eco'}\n",
    "    \"\"\"\n",
    "    from spacy.displacy.render import EntityRenderer\n",
    "    from IPython.display import HTML\n",
    "    renderer = EntityRenderer({'colors': colors})\n",
    "    entities = sorted(entities, key=lambda x: x['start'])\n",
    "    res = renderer.render_ents(text=text, spans=entities, title=title)\n",
    "    return HTML(res)"
   ]
  },
  {
   "cell_type": "code",
   "execution_count": null,
   "id": "cdea02f4",
   "metadata": {},
   "outputs": [],
   "source": [
    "def transform_token_df_to_entity_df(df_tok_pred, bio_tag_col='tag', start_col='start', end_col='end', sent_id_col='id',\n",
    "                                   is_bio=True):\n",
    "    return (df_tok_pred\n",
    "     .assign(\n",
    "        label=lambda df: df[bio_tag_col].str.slice(2, None) if is_bio else df[bio_tag_col],\n",
    "        is_begin=lambda df: df[bio_tag_col].str.slice(0, 1) == 'B' if is_bio else (df[bio_tag_col] != 'O') & (df[bio_tag_col].shift() != df[bio_tag_col]),\n",
    "        start=lambda df: df[start_col][df['is_begin']]\n",
    "     )\n",
    "     .query(f'{bio_tag_col} != \"O\"')\n",
    "     .ffill()\n",
    "     .groupby([sent_id_col, bio_tag_col, start_col])[end_col].max()\n",
    "     .reset_index()\n",
    "     .astype({'start': 'int'})\n",
    ")"
   ]
  },
  {
   "cell_type": "code",
   "execution_count": null,
   "id": "d5ea0f43",
   "metadata": {},
   "outputs": [],
   "source": [
    "# label_map = {'O': 0,\n",
    "#  'I-estate_type': 1,\n",
    "#  'I-city': 2,\n",
    "#  'I-square': 3,\n",
    "#  'I-bedrooms': 4,\n",
    "#  'I-price_monthly': 5,\n",
    "#  'I-district': 6,\n",
    "#  'I-additional_costs': 7,\n",
    "#  'I-price_daily': 8,\n",
    "#  'I-price_arbitrary': 9}\n",
    "label_map = {'O': 0,\n",
    "             'I-city': 1,\n",
    " 'I-district': 2,\n",
    " 'I-estate_type': 3,\n",
    " 'I-price_monthly': 4,\n",
    " 'I-square': 5,\n",
    " 'O': 6}\n",
    "label_map_inv = {v:k[2:] for k,v in label_map.items()}\n",
    "colors = dict(zip({k[2:] for k in label_map.keys()}, px.colors.qualitative.Set2))"
   ]
  },
  {
   "cell_type": "markdown",
   "id": "2556086d",
   "metadata": {},
   "source": [
    "# load model"
   ]
  },
  {
   "cell_type": "code",
   "execution_count": null,
   "id": "113c122a",
   "metadata": {},
   "outputs": [],
   "source": [
    "model = AutoModelForTokenClassification.from_pretrained('../models/rubert_conv_220811-1337/checkpoint-260/')"
   ]
  },
  {
   "cell_type": "code",
   "execution_count": null,
   "id": "12786380",
   "metadata": {},
   "outputs": [],
   "source": [
    "tokenizer = AutoTokenizer.from_pretrained('../models/rubert_conv_220811-1337/checkpoint-260/')"
   ]
  },
  {
   "cell_type": "code",
   "execution_count": null,
   "id": "978278d4",
   "metadata": {},
   "outputs": [],
   "source": [
    "'../models/rubert_conv_220811-1256/checkpoint-70/'"
   ]
  },
  {
   "cell_type": "code",
   "execution_count": null,
   "id": "39e32c25",
   "metadata": {},
   "outputs": [],
   "source": [
    "pipe = pipeline(task='ner', model=model, tokenizer=tokenizer)"
   ]
  },
  {
   "cell_type": "markdown",
   "id": "a09c268d",
   "metadata": {},
   "source": [
    "# example"
   ]
  },
  {
   "cell_type": "code",
   "execution_count": null,
   "id": "4e18df00",
   "metadata": {},
   "outputs": [],
   "source": [
    "texts = [\n",
    "    'Сдается квартира в Подгорице, 50м2, стоимость за месяц 900 евро',\n",
    "    '#сдам #будва\\n\\nСдам апартаменты, за месяц 223 е',\n",
    "    \"\\nСдаётся на 2 летних месяца квартира в Будве с одной спальней. \\nС 1 июля по 31 августа. \\nЦена 1100 в месяц + коммунальные платежи. \\n2 этаж, площадь 40 м. \\nСтиральная машина, кондиционер, интернет ADSL. \\n\\nЛокация \\n\",\n",
    "    \"#podgorica Apartaments available for rent in Podgorica, 500 euro, 50 m2\",\n",
    "    \"Сниму Сдам Подгорица Сдаётся новая однокомнатная квартира в дом Дади, рядом с бульваром Иосипа Броз Тито, Старый Аэродром. Квартира имеет площадь 51 м2 и расположена на третьем этаже здания.\"\n",
    "]\n",
    "text = texts[0]\n",
    "res = pipe(text)"
   ]
  },
  {
   "cell_type": "code",
   "execution_count": null,
   "id": "e06dd842",
   "metadata": {},
   "outputs": [],
   "source": [
    "import sys\n",
    "sys.path.append('../src')"
   ]
  },
  {
   "cell_type": "code",
   "execution_count": null,
   "id": "9bfe383a",
   "metadata": {},
   "outputs": [],
   "source": [
    "df_res = pd.DataFrame(res)\n",
    "df_res['tag'] = df_res['entity'].str.slice(6, 7).astype(int).map(label_map_inv)\n",
    "df_res"
   ]
  },
  {
   "cell_type": "code",
   "execution_count": null,
   "id": "8934e8c1",
   "metadata": {},
   "outputs": [],
   "source": [
    "df_res_ent = transform_token_df_to_entity_df(df_res.assign(id=1), is_bio=False).query('tag != \"\"')"
   ]
  },
  {
   "cell_type": "code",
   "execution_count": null,
   "id": "dfb8ef5b",
   "metadata": {},
   "outputs": [],
   "source": [
    "df_res_ent"
   ]
  },
  {
   "cell_type": "code",
   "execution_count": null,
   "id": "5e9690ac",
   "metadata": {},
   "outputs": [],
   "source": [
    "highlight_entities_in_text(text, \n",
    "                           df_res_ent.rename(columns={'tag': 'label'}).to_dict(orient='records'), \n",
    "                           colors=colors)"
   ]
  },
  {
   "cell_type": "code",
   "execution_count": null,
   "id": "3dfd41f8",
   "metadata": {},
   "outputs": [],
   "source": [
    "for text in texts:\n",
    "    res = pipe(text)\n",
    "\n",
    "    df_res = pd.DataFrame(res)\n",
    "    df_res['tag'] = df_res['entity'].str.slice(6, 7).astype(int).map(label_map_inv)\n",
    "\n",
    "    df_res_ent = transform_token_df_to_entity_df(df_res.assign(id=1), is_bio=False).query('tag != \"\"')\n",
    "\n",
    "    display(highlight_entities_in_text(text, \n",
    "                               df_res_ent.rename(columns={'tag': 'label'}).to_dict(orient='records'), \n",
    "                               colors=colors))\n",
    "    print('-'*80)"
   ]
  },
  {
   "cell_type": "code",
   "execution_count": null,
   "id": "f4c1ca6e",
   "metadata": {},
   "outputs": [],
   "source": [
    "pd.DataFrame(pipe(texts[-1]))"
   ]
  },
  {
   "cell_type": "code",
   "execution_count": null,
   "id": "0b229197",
   "metadata": {},
   "outputs": [],
   "source": [
    "def transform_ner_output_to_ents(res):\n",
    "    df_res = pd.DataFrame(res)\n",
    "    df_res['tag'] = df_res['entity'].str.slice(6, 7).astype(int).map(label_map_inv)\n",
    "    \n",
    "\n",
    "    df_res_ent = transform_token_df_to_entity_df(df_res.assign(id=1), is_bio=False)\n",
    "    return df_res_ent"
   ]
  },
  {
   "cell_type": "markdown",
   "id": "f23122c3",
   "metadata": {},
   "source": [
    "# texts"
   ]
  },
  {
   "cell_type": "code",
   "execution_count": null,
   "id": "49cc4262",
   "metadata": {},
   "outputs": [],
   "source": [
    "import json\n",
    "with open('../models/model_ner_0802/val_ids.json') as f:\n",
    "    val_ids = json.load(f)"
   ]
  },
  {
   "cell_type": "code",
   "execution_count": null,
   "id": "cfe5ebed",
   "metadata": {},
   "outputs": [],
   "source": [
    "# df = pd.read_json('../data/output (1).manifest', lines=True).set_index('id')\n",
    "\n",
    "# df = df.loc[val_ids]"
   ]
  },
  {
   "cell_type": "code",
   "execution_count": null,
   "id": "3c13f69c",
   "metadata": {},
   "outputs": [],
   "source": [
    "df = pd.read_json('../data/df_final_5.json').set_index('id')\n",
    "\n",
    "df = df.loc[val_ids]"
   ]
  },
  {
   "cell_type": "code",
   "execution_count": null,
   "id": "742d4ddf",
   "metadata": {},
   "outputs": [],
   "source": [
    "df"
   ]
  },
  {
   "cell_type": "code",
   "execution_count": null,
   "id": "18c26aa8",
   "metadata": {},
   "outputs": [],
   "source": [
    "df_val_true = df['ner'].explode().dropna().apply(pd.Series).rename(\n",
    "    columns={'startOffset': 'start', 'endOffset': 'end'})\n",
    "df_val_true"
   ]
  },
  {
   "cell_type": "code",
   "execution_count": null,
   "id": "e5759859",
   "metadata": {},
   "outputs": [],
   "source": []
  },
  {
   "cell_type": "code",
   "execution_count": null,
   "id": "ab1ff148",
   "metadata": {},
   "outputs": [],
   "source": [
    "df"
   ]
  },
  {
   "cell_type": "code",
   "execution_count": null,
   "id": "c745ee27",
   "metadata": {},
   "outputs": [],
   "source": [
    "%%time\n",
    "pred = pipe(df['source'].str.lower().to_list())"
   ]
  },
  {
   "cell_type": "code",
   "execution_count": null,
   "id": "7e529104",
   "metadata": {},
   "outputs": [],
   "source": [
    "df_val_pred = pd.concat([transform_ner_output_to_ents(res).drop(columns=['id']) for res in pred], keys=df.index, names=['id'])"
   ]
  },
  {
   "cell_type": "code",
   "execution_count": null,
   "id": "e2635388",
   "metadata": {},
   "outputs": [],
   "source": [
    "df_val_pred = df_val_pred.query('tag != \"\"')"
   ]
  },
  {
   "cell_type": "code",
   "execution_count": null,
   "id": "00985d95",
   "metadata": {},
   "outputs": [],
   "source": [
    "df_val_pred"
   ]
  },
  {
   "cell_type": "code",
   "execution_count": null,
   "id": "23468401",
   "metadata": {},
   "outputs": [],
   "source": [
    "idx=val_ids[9]\n",
    "display(highlight_entities_in_text(df.loc[idx, 'source'],\n",
    "                           df_val_pred.loc[[idx]].rename(columns={'tag': 'label'}).to_dict(orient='records'),\n",
    "                           colors=colors,\n",
    "                           title='Predicted'\n",
    "                          ))\n",
    "\n",
    "display(highlight_entities_in_text(df.loc[idx, 'source'],\n",
    "                           df_val_true.loc[[idx]].to_dict(orient='records'),\n",
    "                           colors=colors,\n",
    "                           title='Actual'\n",
    "                          ))"
   ]
  },
  {
   "cell_type": "code",
   "execution_count": null,
   "id": "2d799ee4",
   "metadata": {},
   "outputs": [],
   "source": [
    "idx=val_ids[1]\n",
    "display(highlight_entities_in_text(df.loc[idx, 'source'],\n",
    "                           df_val_pred.loc[idx].rename(columns={'tag': 'label'}).to_dict(orient='records'),\n",
    "                           colors=colors,\n",
    "                           title='Predicted'\n",
    "                          ))\n",
    "\n",
    "display(highlight_entities_in_text(df.loc[idx, 'source'],\n",
    "                           df_val_true.loc[idx].to_dict(orient='records'),\n",
    "                           colors=colors,\n",
    "                           title='Actual'\n",
    "                          ))"
   ]
  },
  {
   "cell_type": "code",
   "execution_count": null,
   "id": "84ebbc8a",
   "metadata": {},
   "outputs": [],
   "source": [
    "df_val_true.query('label == \"city\"').sort_index()"
   ]
  },
  {
   "cell_type": "code",
   "execution_count": null,
   "id": "36147a5e",
   "metadata": {},
   "outputs": [],
   "source": [
    "df_val_pred.query('tag == \"city\"').sort_index()"
   ]
  },
  {
   "cell_type": "code",
   "execution_count": null,
   "id": "521fc3be",
   "metadata": {},
   "outputs": [],
   "source": [
    "df_val_true['label'].value_counts()"
   ]
  },
  {
   "cell_type": "code",
   "execution_count": null,
   "id": "034e2907",
   "metadata": {},
   "outputs": [],
   "source": [
    "df_comp = df_val_true.query('label not in [\"bedrooms\", \"additional_costs\", \"price_daily\", \"price_arbitrary\"]').assign(true=1).merge(\n",
    "    df_val_pred.assign(pred=1).rename(columns={'tag': 'label'}),\n",
    "    on=['id', 'label', 'start', 'end'],\n",
    "    how='outer'\n",
    ")"
   ]
  },
  {
   "cell_type": "code",
   "execution_count": null,
   "id": "763dd08f",
   "metadata": {},
   "outputs": [],
   "source": [
    "df_comp_counts = df_comp[['true', 'pred']].isnull().groupby('id').sum()"
   ]
  },
  {
   "cell_type": "code",
   "execution_count": null,
   "id": "149d266a",
   "metadata": {},
   "outputs": [],
   "source": [
    "df_comp_counts.sort_values(['true', 'pred'])"
   ]
  },
  {
   "cell_type": "code",
   "execution_count": null,
   "id": "cb4fad4d",
   "metadata": {},
   "outputs": [],
   "source": [
    "idx=28029\n",
    "display(highlight_entities_in_text(df.loc[idx, 'source'],\n",
    "                           df_val_pred.loc[idx].rename(columns={'tag': 'label'}).to_dict(orient='records'),\n",
    "                           colors=colors,\n",
    "                           title='Predicted'\n",
    "                          ))\n",
    "\n",
    "display(highlight_entities_in_text(df.loc[idx, 'source'],\n",
    "                           df_val_true.loc[idx].to_dict(orient='records'),\n",
    "                           colors=colors,\n",
    "                           title='Actual'\n",
    "                          ))"
   ]
  },
  {
   "cell_type": "code",
   "execution_count": null,
   "id": "9425f70d",
   "metadata": {},
   "outputs": [],
   "source": []
  }
 ],
 "metadata": {
  "kernelspec": {
   "display_name": "Python 3 (ipykernel)",
   "language": "python",
   "name": "python3"
  },
  "language_info": {
   "codemirror_mode": {
    "name": "ipython",
    "version": 3
   },
   "file_extension": ".py",
   "mimetype": "text/x-python",
   "name": "python",
   "nbconvert_exporter": "python",
   "pygments_lexer": "ipython3",
   "version": "3.9.12"
  }
 },
 "nbformat": 4,
 "nbformat_minor": 5
}
