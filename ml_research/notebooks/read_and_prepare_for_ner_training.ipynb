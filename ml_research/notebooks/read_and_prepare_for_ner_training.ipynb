{
 "cells": [
  {
   "cell_type": "code",
   "execution_count": 1,
   "id": "94158f4f",
   "metadata": {},
   "outputs": [],
   "source": [
    "import pandas as pd"
   ]
  },
  {
   "cell_type": "code",
   "execution_count": 2,
   "id": "aa0e41fc",
   "metadata": {},
   "outputs": [],
   "source": [
    "import s3fs"
   ]
  },
  {
   "cell_type": "code",
   "execution_count": 4,
   "id": "b1551cc1",
   "metadata": {},
   "outputs": [],
   "source": [
    "creds = pd.read_csv('/Users/Nadzeya_Salahub/Downloads/rootkey.csv', sep='=', header=None, index_col=0)[1].to_dict()"
   ]
  },
  {
   "cell_type": "code",
   "execution_count": 5,
   "id": "67b327cd",
   "metadata": {},
   "outputs": [
    {
     "data": {
      "text/plain": [
       "dict_keys(['AWSAccessKeyId', 'AWSSecretKey'])"
      ]
     },
     "execution_count": 5,
     "metadata": {},
     "output_type": "execute_result"
    }
   ],
   "source": [
    "creds.keys()"
   ]
  },
  {
   "cell_type": "code",
   "execution_count": 6,
   "id": "1ee4ddf0",
   "metadata": {},
   "outputs": [],
   "source": [
    "fs = s3fs.S3FileSystem(anon=False, key=creds['AWSAccessKeyId'], secret=creds['AWSSecretKey'])"
   ]
  },
  {
   "cell_type": "code",
   "execution_count": 7,
   "id": "ad18c28a",
   "metadata": {},
   "outputs": [],
   "source": [
    "dfs = {}\n",
    "for i in [1, 2, 3, 5]:\n",
    "    with fs.open(f's3://mn-rent/rent-ner-classification-final-{i}/manifests/output/output.manifest') as f:\n",
    "        df = pd.read_json(f, lines=True).rename(columns={\n",
    "            f'rent-ner-classification-final-{i}': 'job_name',\n",
    "            f'rent-ner-classification-final-{i}-metadata': 'job_name_meta'\n",
    "        }).dropna(subset=['job_name'])\n",
    "        dfs[f'rent-ner-classification-final-{i}'] = df"
   ]
  },
  {
   "cell_type": "code",
   "execution_count": 8,
   "id": "5bcbf388",
   "metadata": {},
   "outputs": [],
   "source": [
    "df_final = pd.concat(dfs)"
   ]
  },
  {
   "cell_type": "code",
   "execution_count": 17,
   "id": "a859477c",
   "metadata": {},
   "outputs": [
    {
     "data": {
      "text/plain": [
       "{'annotationsFromAllWorkers': [{'workerId': 'private.us-east-1.ad396d866212b8b3',\n",
       "   'annotationData': {'content': '{\"bed\":{\"0\":false,\"1\":false,\"2\":false,\"3\":false,\"4\":false,\">5\":true,\"unk\":false},\"crowd-entity-annotation\":{\"entities\":[{\"endOffset\":25,\"label\":\"district\",\"startOffset\":17},{\"endOffset\":30,\"label\":\"estate_type\",\"startOffset\":27},{\"endOffset\":145,\"label\":\"bedrooms\",\"startOffset\":136},{\"endOffset\":189,\"label\":\"bedrooms\",\"startOffset\":180},{\"endOffset\":597,\"label\":\"price_monthly\",\"startOffset\":593},{\"endOffset\":620,\"label\":\"additional_costs\",\"startOffset\":610}]},\"period\":{\"daily\":false,\"long\":true,\"short\":false},\"pet\":{\"no\":false,\"unk\":true,\"yes\":false}}'}}],\n",
       " 'ner': [{'startOffset': 610, 'endOffset': 620, 'label': 'additional_costs'},\n",
       "  {'startOffset': 136, 'endOffset': 145, 'label': 'bedrooms'},\n",
       "  {'startOffset': 180, 'endOffset': 189, 'label': 'bedrooms'},\n",
       "  {'startOffset': 17, 'endOffset': 25, 'label': 'district'},\n",
       "  {'startOffset': 27, 'endOffset': 30, 'label': 'estate_type'},\n",
       "  {'startOffset': 593, 'endOffset': 597, 'label': 'price_monthly'}],\n",
       " 'tags': {'bed': '>5', 'period': 'long', 'pet': 'unk'}}"
      ]
     },
     "execution_count": 17,
     "metadata": {},
     "output_type": "execute_result"
    }
   ],
   "source": [
    "with fs.open(f's3://mn-rent/rent-ner-classification-final-{i}/manifests/output/output.manifest') as f:\n",
    "        df = pd.read_json(f, lines=True).rename(columns={\n",
    "            f'rent-ner-classification-final-{i}': 'job_name',\n",
    "            f'rent-ner-classification-final-{i}-metadata': 'job_name_meta'\n",
    "        }).dropna(subset=['job_name'])\n",
    "        dfs[f'rent-ner-classification-final-{i}'] = df"
   ]
  },
  {
   "cell_type": "code",
   "execution_count": null,
   "id": "3a2f9c1c",
   "metadata": {},
   "outputs": [],
   "source": [
    "df_final['job_name'][0].keys()"
   ]
  },
  {
   "cell_type": "code",
   "execution_count": null,
   "id": "ffd85398",
   "metadata": {},
   "outputs": [],
   "source": [
    "df_final['ner'] = df_final['job_name'].map(lambda x: x['ner'])\n",
    "df_final['tags'] = df_final['job_name'].map(lambda x: x['tags'])"
   ]
  },
  {
   "cell_type": "code",
   "execution_count": null,
   "id": "278c121d",
   "metadata": {},
   "outputs": [],
   "source": [
    "# df_final.to_csv('../data/df_final_5.csv')"
   ]
  },
  {
   "cell_type": "code",
   "execution_count": null,
   "id": "839f83cb",
   "metadata": {},
   "outputs": [],
   "source": [
    "df_final.to_json('../../data/df_final_5.json')"
   ]
  },
  {
   "cell_type": "code",
   "execution_count": null,
   "id": "d783abb4",
   "metadata": {},
   "outputs": [],
   "source": []
  }
 ],
 "metadata": {
  "kernelspec": {
   "display_name": "Python 3 (ipykernel)",
   "language": "python",
   "name": "python3"
  },
  "language_info": {
   "codemirror_mode": {
    "name": "ipython",
    "version": 3
   },
   "file_extension": ".py",
   "mimetype": "text/x-python",
   "name": "python",
   "nbconvert_exporter": "python",
   "pygments_lexer": "ipython3",
   "version": "3.7.13"
  }
 },
 "nbformat": 4,
 "nbformat_minor": 5
}
