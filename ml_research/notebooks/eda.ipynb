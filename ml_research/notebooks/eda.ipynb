{
 "cells": [
  {
   "cell_type": "code",
   "execution_count": 50,
   "id": "4f437116",
   "metadata": {},
   "outputs": [],
   "source": [
    "import pandas as pd\n",
    "\n",
    "from ast import literal_eval"
   ]
  },
  {
   "cell_type": "code",
   "execution_count": 51,
   "id": "972ab4b1",
   "metadata": {},
   "outputs": [],
   "source": [
    "df = pd.read_csv('../data/English/project-5-at-2022-09-16-14-44-10aaa9bb.csv',\n",
    "                 converters={'label': literal_eval})\n",
    "df = df.set_index('id')"
   ]
  },
  {
   "cell_type": "code",
   "execution_count": 52,
   "id": "12f3bc94",
   "metadata": {},
   "outputs": [
    {
     "data": {
      "text/html": [
       "<div>\n",
       "<style scoped>\n",
       "    .dataframe tbody tr th:only-of-type {\n",
       "        vertical-align: middle;\n",
       "    }\n",
       "\n",
       "    .dataframe tbody tr th {\n",
       "        vertical-align: top;\n",
       "    }\n",
       "\n",
       "    .dataframe thead th {\n",
       "        text-align: right;\n",
       "    }\n",
       "</style>\n",
       "<table border=\"1\" class=\"dataframe\">\n",
       "  <thead>\n",
       "    <tr style=\"text-align: right;\">\n",
       "      <th></th>\n",
       "      <th>text</th>\n",
       "      <th>post_id</th>\n",
       "      <th>label</th>\n",
       "      <th>bedrooms</th>\n",
       "      <th>pets</th>\n",
       "      <th>annotator</th>\n",
       "      <th>annotation_id</th>\n",
       "      <th>created_at</th>\n",
       "      <th>updated_at</th>\n",
       "      <th>lead_time</th>\n",
       "    </tr>\n",
       "    <tr>\n",
       "      <th>id</th>\n",
       "      <th></th>\n",
       "      <th></th>\n",
       "      <th></th>\n",
       "      <th></th>\n",
       "      <th></th>\n",
       "      <th></th>\n",
       "      <th></th>\n",
       "      <th></th>\n",
       "      <th></th>\n",
       "      <th></th>\n",
       "    </tr>\n",
       "  </thead>\n",
       "  <tbody>\n",
       "    <tr>\n",
       "      <th>7</th>\n",
       "      <td>🔥FOR SALE🔥 Four bedroom penthouse with sea vie...</td>\n",
       "      <td>5251272384992375</td>\n",
       "      <td>[{'start': 24, 'end': 33, 'text': 'penthouse',...</td>\n",
       "      <td>BEDS: UNK</td>\n",
       "      <td>PETS_UNK</td>\n",
       "      <td>1</td>\n",
       "      <td>7</td>\n",
       "      <td>2022-09-09T10:09:38.490158Z</td>\n",
       "      <td>2022-09-09T10:09:38.490181Z</td>\n",
       "      <td>29.576</td>\n",
       "    </tr>\n",
       "    <tr>\n",
       "      <th>6</th>\n",
       "      <td>Fantastic one bedroom apartment in Elena Resid...</td>\n",
       "      <td>5253586514760962</td>\n",
       "      <td>[{'start': 105, 'end': 110, 'text': '78 m2', '...</td>\n",
       "      <td>BEDS: 1</td>\n",
       "      <td>PETS_UNK</td>\n",
       "      <td>1</td>\n",
       "      <td>6</td>\n",
       "      <td>2022-09-09T10:07:12.030516Z</td>\n",
       "      <td>2022-09-09T10:07:12.030546Z</td>\n",
       "      <td>29.374</td>\n",
       "    </tr>\n",
       "    <tr>\n",
       "      <th>5</th>\n",
       "      <td>🔥New house For Sale with pool and a breathtaki...</td>\n",
       "      <td>5261124434007170</td>\n",
       "      <td>[{'start': 93, 'end': 98, 'text': 'house', 'la...</td>\n",
       "      <td>BEDS: 3</td>\n",
       "      <td>PETS_UNK</td>\n",
       "      <td>1</td>\n",
       "      <td>5</td>\n",
       "      <td>2022-09-09T10:06:42.376101Z</td>\n",
       "      <td>2022-09-09T10:06:42.376124Z</td>\n",
       "      <td>93.753</td>\n",
       "    </tr>\n",
       "  </tbody>\n",
       "</table>\n",
       "</div>"
      ],
      "text/plain": [
       "                                                 text           post_id  \\\n",
       "id                                                                        \n",
       "7   🔥FOR SALE🔥 Four bedroom penthouse with sea vie...  5251272384992375   \n",
       "6   Fantastic one bedroom apartment in Elena Resid...  5253586514760962   \n",
       "5   🔥New house For Sale with pool and a breathtaki...  5261124434007170   \n",
       "\n",
       "                                                label   bedrooms      pets  \\\n",
       "id                                                                           \n",
       "7   [{'start': 24, 'end': 33, 'text': 'penthouse',...  BEDS: UNK  PETS_UNK   \n",
       "6   [{'start': 105, 'end': 110, 'text': '78 m2', '...    BEDS: 1  PETS_UNK   \n",
       "5   [{'start': 93, 'end': 98, 'text': 'house', 'la...    BEDS: 3  PETS_UNK   \n",
       "\n",
       "    annotator  annotation_id                   created_at  \\\n",
       "id                                                          \n",
       "7           1              7  2022-09-09T10:09:38.490158Z   \n",
       "6           1              6  2022-09-09T10:07:12.030516Z   \n",
       "5           1              5  2022-09-09T10:06:42.376101Z   \n",
       "\n",
       "                     updated_at  lead_time  \n",
       "id                                          \n",
       "7   2022-09-09T10:09:38.490181Z     29.576  \n",
       "6   2022-09-09T10:07:12.030546Z     29.374  \n",
       "5   2022-09-09T10:06:42.376124Z     93.753  "
      ]
     },
     "execution_count": 52,
     "metadata": {},
     "output_type": "execute_result"
    }
   ],
   "source": [
    "df.head()"
   ]
  },
  {
   "cell_type": "code",
   "execution_count": 53,
   "id": "11a51132",
   "metadata": {},
   "outputs": [
    {
     "data": {
      "text/plain": [
       "(3, 10)"
      ]
     },
     "execution_count": 53,
     "metadata": {},
     "output_type": "execute_result"
    }
   ],
   "source": [
    "df.shape"
   ]
  },
  {
   "cell_type": "code",
   "execution_count": 54,
   "id": "8e56d77b",
   "metadata": {},
   "outputs": [
    {
     "data": {
      "text/plain": [
       "BEDS: UNK    1\n",
       "BEDS: 1      1\n",
       "BEDS: 3      1\n",
       "Name: bedrooms, dtype: int64"
      ]
     },
     "execution_count": 54,
     "metadata": {},
     "output_type": "execute_result"
    }
   ],
   "source": [
    "df['bedrooms'].value_counts()"
   ]
  },
  {
   "cell_type": "code",
   "execution_count": 56,
   "id": "10b6c118",
   "metadata": {},
   "outputs": [],
   "source": [
    "df_ner_labels = df['label'].explode().apply(pd.Series).explode('labels')"
   ]
  },
  {
   "cell_type": "code",
   "execution_count": 57,
   "id": "3f8f0e27",
   "metadata": {},
   "outputs": [
    {
     "data": {
      "text/html": [
       "<div>\n",
       "<style scoped>\n",
       "    .dataframe tbody tr th:only-of-type {\n",
       "        vertical-align: middle;\n",
       "    }\n",
       "\n",
       "    .dataframe tbody tr th {\n",
       "        vertical-align: top;\n",
       "    }\n",
       "\n",
       "    .dataframe thead th {\n",
       "        text-align: right;\n",
       "    }\n",
       "</style>\n",
       "<table border=\"1\" class=\"dataframe\">\n",
       "  <thead>\n",
       "    <tr style=\"text-align: right;\">\n",
       "      <th></th>\n",
       "      <th>start</th>\n",
       "      <th>end</th>\n",
       "      <th>text</th>\n",
       "      <th>labels</th>\n",
       "    </tr>\n",
       "    <tr>\n",
       "      <th>id</th>\n",
       "      <th></th>\n",
       "      <th></th>\n",
       "      <th></th>\n",
       "      <th></th>\n",
       "    </tr>\n",
       "  </thead>\n",
       "  <tbody>\n",
       "    <tr>\n",
       "      <th>7</th>\n",
       "      <td>24</td>\n",
       "      <td>33</td>\n",
       "      <td>penthouse</td>\n",
       "      <td>ESTATE_TYPE</td>\n",
       "    </tr>\n",
       "    <tr>\n",
       "      <th>7</th>\n",
       "      <td>248</td>\n",
       "      <td>253</td>\n",
       "      <td>220m2</td>\n",
       "      <td>SQUARE</td>\n",
       "    </tr>\n",
       "    <tr>\n",
       "      <th>7</th>\n",
       "      <td>312</td>\n",
       "      <td>319</td>\n",
       "      <td>550.000</td>\n",
       "      <td>PRICE_A</td>\n",
       "    </tr>\n",
       "    <tr>\n",
       "      <th>6</th>\n",
       "      <td>105</td>\n",
       "      <td>110</td>\n",
       "      <td>78 m2</td>\n",
       "      <td>SQUARE</td>\n",
       "    </tr>\n",
       "    <tr>\n",
       "      <th>6</th>\n",
       "      <td>256</td>\n",
       "      <td>263</td>\n",
       "      <td>785.000</td>\n",
       "      <td>PRICE_A</td>\n",
       "    </tr>\n",
       "  </tbody>\n",
       "</table>\n",
       "</div>"
      ],
      "text/plain": [
       "    start  end       text       labels\n",
       "id                                    \n",
       "7      24   33  penthouse  ESTATE_TYPE\n",
       "7     248  253      220m2       SQUARE\n",
       "7     312  319    550.000      PRICE_A\n",
       "6     105  110      78 m2       SQUARE\n",
       "6     256  263    785.000      PRICE_A"
      ]
     },
     "execution_count": 57,
     "metadata": {},
     "output_type": "execute_result"
    }
   ],
   "source": [
    "df_ner_labels.head()"
   ]
  },
  {
   "cell_type": "code",
   "execution_count": 58,
   "id": "f7deb033",
   "metadata": {},
   "outputs": [
    {
     "data": {
      "text/plain": [
       "(10, 4)"
      ]
     },
     "execution_count": 58,
     "metadata": {},
     "output_type": "execute_result"
    }
   ],
   "source": [
    "df_ner_labels.shape"
   ]
  },
  {
   "cell_type": "code",
   "execution_count": 60,
   "id": "1fb0ff45",
   "metadata": {},
   "outputs": [
    {
     "data": {
      "text/plain": [
       "SQUARE         4\n",
       "ESTATE_TYPE    3\n",
       "PRICE_A        3\n",
       "Name: labels, dtype: int64"
      ]
     },
     "execution_count": 60,
     "metadata": {},
     "output_type": "execute_result"
    }
   ],
   "source": [
    "df_ner_labels['labels'].value_counts()"
   ]
  },
  {
   "cell_type": "code",
   "execution_count": null,
   "id": "73e6a6c5",
   "metadata": {},
   "outputs": [],
   "source": []
  }
 ],
 "metadata": {
  "kernelspec": {
   "display_name": "Python 3 (ipykernel)",
   "language": "python",
   "name": "python3"
  },
  "language_info": {
   "codemirror_mode": {
    "name": "ipython",
    "version": 3
   },
   "file_extension": ".py",
   "mimetype": "text/x-python",
   "name": "python",
   "nbconvert_exporter": "python",
   "pygments_lexer": "ipython3",
   "version": "3.7.13"
  }
 },
 "nbformat": 4,
 "nbformat_minor": 5
}
