{
 "cells": [
  {
   "cell_type": "code",
   "execution_count": null,
   "id": "bc6b89a1",
   "metadata": {},
   "outputs": [],
   "source": [
    "import pandas as pd"
   ]
  },
  {
   "cell_type": "code",
   "execution_count": null,
   "id": "e4bff280",
   "metadata": {},
   "outputs": [],
   "source": [
    "df_labels = pd.read_json('../data/output.manifest', lines=True).set_index('id')\n",
    "df = (df_labels\n",
    "      .assign(label=lambda df: df['rent-classification'] == 0)\n",
    "      .rename(columns={'source': 'text'})\n",
    "      [['label', 'text']]\n",
    "     )"
   ]
  },
  {
   "cell_type": "code",
   "execution_count": null,
   "id": "0690352b",
   "metadata": {},
   "outputs": [],
   "source": [
    "df.astype({'label': 'int'}).to_csv('../data/train.csv', index=False)"
   ]
  },
  {
   "cell_type": "code",
   "execution_count": null,
   "id": "daf4dffc",
   "metadata": {},
   "outputs": [],
   "source": [
    "from datasets import load_dataset, Dataset, DatasetDict\n",
    "\n",
    "dataset = DatasetDict({\n",
    "    'train': Dataset.from_pandas(df.head(700)),\n",
    "    'validation': Dataset.from_pandas(df.tail(300)),\n",
    "})\n",
    "dataset"
   ]
  },
  {
   "cell_type": "code",
   "execution_count": null,
   "id": "36137507",
   "metadata": {},
   "outputs": [],
   "source": [
    "\n"
   ]
  },
  {
   "cell_type": "code",
   "execution_count": null,
   "id": "32a1b84a",
   "metadata": {},
   "outputs": [],
   "source": [
    "from transformers import AutoTokenizer\n",
    "\n",
    "tokenizer = AutoTokenizer.from_pretrained(\"bert-base-multilingual-cased\")\n",
    "\n",
    "\n",
    "def tokenize_function(examples):\n",
    "    return tokenizer(examples[\"text\"], padding=\"max_length\", truncation=True)\n",
    "\n",
    "\n",
    "tokenized_datasets = dataset.map(tokenize_function, batched=True)"
   ]
  },
  {
   "cell_type": "code",
   "execution_count": null,
   "id": "6aed20c1",
   "metadata": {},
   "outputs": [],
   "source": [
    "small_train_dataset = tokenized_datasets[\"train\"].shuffle(seed=42)\n",
    "small_eval_dataset = tokenized_datasets[\"validation\"].shuffle(seed=42)"
   ]
  },
  {
   "cell_type": "code",
   "execution_count": null,
   "id": "64a5c30c",
   "metadata": {},
   "outputs": [],
   "source": [
    "from transformers import AutoModelForSequenceClassification\n",
    "\n",
    "model = AutoModelForSequenceClassification.from_pretrained(\"bert-base-multilingual-cased\", num_labels=2)"
   ]
  },
  {
   "cell_type": "code",
   "execution_count": null,
   "id": "78021562",
   "metadata": {},
   "outputs": [],
   "source": [
    "from transformers import TrainingArguments, Trainer\n",
    "\n",
    "training_args = TrainingArguments(output_dir=\"test_trainer\", evaluation_strategy=\"epoch\")"
   ]
  },
  {
   "cell_type": "code",
   "execution_count": null,
   "id": "acae51b7",
   "metadata": {},
   "outputs": [],
   "source": [
    "import numpy as np\n",
    "from datasets import load_metric\n",
    "\n",
    "metric = load_metric(\"accuracy\")"
   ]
  },
  {
   "cell_type": "code",
   "execution_count": null,
   "id": "535a61dd",
   "metadata": {},
   "outputs": [],
   "source": [
    "def compute_metrics(eval_pred):\n",
    "    logits, labels = eval_pred\n",
    "    predictions = np.argmax(logits, axis=-1)\n",
    "    return metric.compute(predictions=predictions, references=labels)"
   ]
  },
  {
   "cell_type": "code",
   "execution_count": null,
   "id": "f2859d8d",
   "metadata": {},
   "outputs": [],
   "source": [
    "trainer = Trainer(\n",
    "    model=model,\n",
    "    args=training_args,\n",
    "    train_dataset=small_train_dataset,\n",
    "    eval_dataset=small_eval_dataset,\n",
    "    compute_metrics=compute_metrics,\n",
    ")"
   ]
  },
  {
   "cell_type": "code",
   "execution_count": null,
   "id": "10c1726d",
   "metadata": {},
   "outputs": [],
   "source": [
    "trainer.train()"
   ]
  },
  {
   "cell_type": "code",
   "execution_count": null,
   "id": "2cec474e",
   "metadata": {},
   "outputs": [],
   "source": [
    "from transformers import TextClassificationPipeline"
   ]
  },
  {
   "cell_type": "code",
   "execution_count": null,
   "id": "40c2cb93",
   "metadata": {},
   "outputs": [],
   "source": [
    "clf = TextClassificationPipeline(model=model, tokenizer=tokenizer)"
   ]
  },
  {
   "cell_type": "code",
   "execution_count": null,
   "id": "01162b8d",
   "metadata": {},
   "outputs": [],
   "source": [
    "%%time\n",
    "preds = clf(df.tail(300)['text'].tolist())"
   ]
  },
  {
   "cell_type": "code",
   "execution_count": null,
   "id": "c7417602",
   "metadata": {},
   "outputs": [],
   "source": [
    "pd.DataFrame(preds)"
   ]
  },
  {
   "cell_type": "code",
   "execution_count": null,
   "id": "f16c9351",
   "metadata": {},
   "outputs": [],
   "source": [
    "from sklearn.metrics import confusion_matrix, precision_recall_fscore_support\n",
    "import plotly.express as px"
   ]
  },
  {
   "cell_type": "code",
   "execution_count": null,
   "id": "1d504854",
   "metadata": {},
   "outputs": [],
   "source": [
    "y_val = df.tail(300)['label'].values"
   ]
  },
  {
   "cell_type": "code",
   "execution_count": null,
   "id": "311ffc5c",
   "metadata": {},
   "outputs": [],
   "source": [
    "y_pred = (pd.DataFrame(preds)['label'] == 'LABEL_1').values"
   ]
  },
  {
   "cell_type": "code",
   "execution_count": null,
   "id": "f3cb9f9f",
   "metadata": {},
   "outputs": [],
   "source": [
    "precision_recall_fscore_support(\n",
    "    y_val,\n",
    "    y_pred\n",
    ")"
   ]
  },
  {
   "cell_type": "code",
   "execution_count": null,
   "id": "6e8eb546",
   "metadata": {},
   "outputs": [],
   "source": [
    "def plot_cm(y_true, y_pred):\n",
    "    labels = sorted(pd.unique(y_true))\n",
    "    df = pd.DataFrame(confusion_matrix(y_true, y_pred), index=labels, columns=labels)\n",
    "    return px.imshow(df, labels={'y': 'actual', 'x': 'pred'}, text_auto=True)"
   ]
  },
  {
   "cell_type": "code",
   "execution_count": null,
   "id": "864eb8b3",
   "metadata": {},
   "outputs": [],
   "source": [
    "import plotly.io as pio\n",
    "pio.renderers.default='notebook'"
   ]
  },
  {
   "cell_type": "code",
   "execution_count": null,
   "id": "c79b3fec",
   "metadata": {},
   "outputs": [],
   "source": [
    "plot_cm(y_val, y_pred)"
   ]
  },
  {
   "cell_type": "code",
   "execution_count": null,
   "id": "1f1ae7d5",
   "metadata": {},
   "outputs": [],
   "source": [
    "df.tail(300).assign(pred=y_pred).sample(20).style"
   ]
  },
  {
   "cell_type": "code",
   "execution_count": null,
   "id": "d688e49d",
   "metadata": {},
   "outputs": [],
   "source": [
    "df.tail(300).assign(pred=y_pred)[y_val != y_pred].style"
   ]
  },
  {
   "cell_type": "code",
   "execution_count": null,
   "id": "bbc3a67a",
   "metadata": {},
   "outputs": [],
   "source": [
    "model.save_pretrained('../model')\n",
    "\n",
    "tokenizer.save_pretrained('../tokenizer')"
   ]
  },
  {
   "cell_type": "code",
   "execution_count": null,
   "id": "ea9a3801",
   "metadata": {},
   "outputs": [],
   "source": [
    "model"
   ]
  },
  {
   "cell_type": "code",
   "execution_count": null,
   "id": "b7ba9ccc",
   "metadata": {},
   "outputs": [],
   "source": []
  },
  {
   "cell_type": "code",
   "execution_count": null,
   "id": "e735632a",
   "metadata": {},
   "outputs": [],
   "source": []
  }
 ],
 "metadata": {
  "kernelspec": {
   "display_name": "Python 3 (ipykernel)",
   "language": "python",
   "name": "python3"
  },
  "language_info": {
   "codemirror_mode": {
    "name": "ipython",
    "version": 3
   },
   "file_extension": ".py",
   "mimetype": "text/x-python",
   "name": "python",
   "nbconvert_exporter": "python",
   "pygments_lexer": "ipython3",
   "version": "3.9.12"
  }
 },
 "nbformat": 4,
 "nbformat_minor": 5
}
